{
  "nbformat": 4,
  "nbformat_minor": 0,
  "metadata": {
    "colab": {
      "name": "PhishingML.ipynb",
      "provenance": [],
      "collapsed_sections": []
    },
    "kernelspec": {
      "name": "python3",
      "display_name": "Python 3"
    }
  },
  "cells": [
    {
      "cell_type": "code",
      "metadata": {
        "id": "_F8f0b3-Bwms"
      },
      "source": [
        "!pip install tldextract"
      ],
      "execution_count": null,
      "outputs": []
    },
    {
      "cell_type": "code",
      "metadata": {
        "id": "rjUJ1XUaFuXN"
      },
      "source": [
        "import pandas as pd\n",
        "from tldextract import extract\n",
        "from google.colab import drive\n",
        "drive.mount('/content/drive')"
      ],
      "execution_count": null,
      "outputs": []
    },
    {
      "cell_type": "markdown",
      "metadata": {
        "id": "y3k4pi8bLBZV"
      },
      "source": [
        "**Malicious URLs**"
      ]
    },
    {
      "cell_type": "code",
      "metadata": {
        "id": "3BrwjKx-K0p_",
        "outputId": "30635122-a85f-49bd-bcec-c914a21fea40",
        "colab": {
          "base_uri": "https://localhost:8080/",
          "height": 202
        }
      },
      "source": [
        "malicious_df = pd.read_csv(\"drive/My Drive/Colab Notebooks/Phishing_URL/verified_online.csv\")\n",
        "malicious_df.head()"
      ],
      "execution_count": null,
      "outputs": [
        {
          "output_type": "execute_result",
          "data": {
            "text/html": [
              "<div>\n",
              "<style scoped>\n",
              "    .dataframe tbody tr th:only-of-type {\n",
              "        vertical-align: middle;\n",
              "    }\n",
              "\n",
              "    .dataframe tbody tr th {\n",
              "        vertical-align: top;\n",
              "    }\n",
              "\n",
              "    .dataframe thead th {\n",
              "        text-align: right;\n",
              "    }\n",
              "</style>\n",
              "<table border=\"1\" class=\"dataframe\">\n",
              "  <thead>\n",
              "    <tr style=\"text-align: right;\">\n",
              "      <th></th>\n",
              "      <th>phish_id</th>\n",
              "      <th>url</th>\n",
              "      <th>phish_detail_url</th>\n",
              "      <th>submission_time</th>\n",
              "      <th>verified</th>\n",
              "      <th>verification_time</th>\n",
              "      <th>online</th>\n",
              "      <th>target</th>\n",
              "    </tr>\n",
              "  </thead>\n",
              "  <tbody>\n",
              "    <tr>\n",
              "      <th>0</th>\n",
              "      <td>6471412</td>\n",
              "      <td>https://www.accesodigitalfirma.com//bancos.php</td>\n",
              "      <td>http://www.phishtank.com/phish_detail.php?phis...</td>\n",
              "      <td>2020-03-27T02:32:06+00:00</td>\n",
              "      <td>yes</td>\n",
              "      <td>2020-03-27T02:34:33+00:00</td>\n",
              "      <td>yes</td>\n",
              "      <td>Other</td>\n",
              "    </tr>\n",
              "    <tr>\n",
              "      <th>1</th>\n",
              "      <td>6471402</td>\n",
              "      <td>https://iticadregisterbonus.ga/</td>\n",
              "      <td>http://www.phishtank.com/phish_detail.php?phis...</td>\n",
              "      <td>2020-03-27T02:00:23+00:00</td>\n",
              "      <td>yes</td>\n",
              "      <td>2020-03-27T02:01:46+00:00</td>\n",
              "      <td>yes</td>\n",
              "      <td>Other</td>\n",
              "    </tr>\n",
              "    <tr>\n",
              "      <th>2</th>\n",
              "      <td>6471389</td>\n",
              "      <td>https://www.mibcp.idlemovil.com/iniciar-sesion</td>\n",
              "      <td>http://www.phishtank.com/phish_detail.php?phis...</td>\n",
              "      <td>2020-03-27T01:45:10+00:00</td>\n",
              "      <td>yes</td>\n",
              "      <td>2020-03-27T01:45:24+00:00</td>\n",
              "      <td>yes</td>\n",
              "      <td>Other</td>\n",
              "    </tr>\n",
              "    <tr>\n",
              "      <th>3</th>\n",
              "      <td>6471388</td>\n",
              "      <td>https://jhtys.net/index/login/index.html</td>\n",
              "      <td>http://www.phishtank.com/phish_detail.php?phis...</td>\n",
              "      <td>2020-03-27T01:39:35+00:00</td>\n",
              "      <td>yes</td>\n",
              "      <td>2020-03-27T01:40:24+00:00</td>\n",
              "      <td>yes</td>\n",
              "      <td>Other</td>\n",
              "    </tr>\n",
              "    <tr>\n",
              "      <th>4</th>\n",
              "      <td>6471386</td>\n",
              "      <td>https://sicurezza-covid19.com/</td>\n",
              "      <td>http://www.phishtank.com/phish_detail.php?phis...</td>\n",
              "      <td>2020-03-27T01:36:00+00:00</td>\n",
              "      <td>yes</td>\n",
              "      <td>2020-03-27T01:39:08+00:00</td>\n",
              "      <td>yes</td>\n",
              "      <td>Other</td>\n",
              "    </tr>\n",
              "  </tbody>\n",
              "</table>\n",
              "</div>"
            ],
            "text/plain": [
              "   phish_id                                             url  ... online target\n",
              "0   6471412  https://www.accesodigitalfirma.com//bancos.php  ...    yes  Other\n",
              "1   6471402                 https://iticadregisterbonus.ga/  ...    yes  Other\n",
              "2   6471389  https://www.mibcp.idlemovil.com/iniciar-sesion  ...    yes  Other\n",
              "3   6471388        https://jhtys.net/index/login/index.html  ...    yes  Other\n",
              "4   6471386                  https://sicurezza-covid19.com/  ...    yes  Other\n",
              "\n",
              "[5 rows x 8 columns]"
            ]
          },
          "metadata": {
            "tags": []
          },
          "execution_count": 26
        }
      ]
    },
    {
      "cell_type": "code",
      "metadata": {
        "id": "JrPtYCOuMRjD",
        "outputId": "f44166c6-cb81-4872-fe0f-4f12ad49737c",
        "colab": {
          "base_uri": "https://localhost:8080/",
          "height": 202
        }
      },
      "source": [
        "new_mal = malicious_df.drop(malicious_df.columns[[0, 2, 3, 4, 5, 6, 7]], axis=1) \n",
        "new_mal['label'] = 1\n",
        "new_mal.head()"
      ],
      "execution_count": null,
      "outputs": [
        {
          "output_type": "execute_result",
          "data": {
            "text/html": [
              "<div>\n",
              "<style scoped>\n",
              "    .dataframe tbody tr th:only-of-type {\n",
              "        vertical-align: middle;\n",
              "    }\n",
              "\n",
              "    .dataframe tbody tr th {\n",
              "        vertical-align: top;\n",
              "    }\n",
              "\n",
              "    .dataframe thead th {\n",
              "        text-align: right;\n",
              "    }\n",
              "</style>\n",
              "<table border=\"1\" class=\"dataframe\">\n",
              "  <thead>\n",
              "    <tr style=\"text-align: right;\">\n",
              "      <th></th>\n",
              "      <th>url</th>\n",
              "      <th>label</th>\n",
              "    </tr>\n",
              "  </thead>\n",
              "  <tbody>\n",
              "    <tr>\n",
              "      <th>0</th>\n",
              "      <td>https://www.accesodigitalfirma.com//bancos.php</td>\n",
              "      <td>1</td>\n",
              "    </tr>\n",
              "    <tr>\n",
              "      <th>1</th>\n",
              "      <td>https://iticadregisterbonus.ga/</td>\n",
              "      <td>1</td>\n",
              "    </tr>\n",
              "    <tr>\n",
              "      <th>2</th>\n",
              "      <td>https://www.mibcp.idlemovil.com/iniciar-sesion</td>\n",
              "      <td>1</td>\n",
              "    </tr>\n",
              "    <tr>\n",
              "      <th>3</th>\n",
              "      <td>https://jhtys.net/index/login/index.html</td>\n",
              "      <td>1</td>\n",
              "    </tr>\n",
              "    <tr>\n",
              "      <th>4</th>\n",
              "      <td>https://sicurezza-covid19.com/</td>\n",
              "      <td>1</td>\n",
              "    </tr>\n",
              "  </tbody>\n",
              "</table>\n",
              "</div>"
            ],
            "text/plain": [
              "                                              url  label\n",
              "0  https://www.accesodigitalfirma.com//bancos.php      1\n",
              "1                 https://iticadregisterbonus.ga/      1\n",
              "2  https://www.mibcp.idlemovil.com/iniciar-sesion      1\n",
              "3        https://jhtys.net/index/login/index.html      1\n",
              "4                  https://sicurezza-covid19.com/      1"
            ]
          },
          "metadata": {
            "tags": []
          },
          "execution_count": 27
        }
      ]
    },
    {
      "cell_type": "code",
      "metadata": {
        "id": "XNK_11ZxMX2y",
        "outputId": "3b7df45b-9328-4889-e570-3ccec46cb237",
        "colab": {
          "base_uri": "https://localhost:8080/",
          "height": 34
        }
      },
      "source": [
        "print( str(new_mal.shape[0]) + \" phishing URLs\")"
      ],
      "execution_count": null,
      "outputs": [
        {
          "output_type": "stream",
          "text": [
            "13098 phishing URLs\n"
          ],
          "name": "stdout"
        }
      ]
    },
    {
      "cell_type": "markdown",
      "metadata": {
        "id": "bDJiuGC3CKaW"
      },
      "source": [
        "**Handling Benign URLs**"
      ]
    },
    {
      "cell_type": "code",
      "metadata": {
        "id": "RaK801rtCHpt",
        "outputId": "2d0a5f98-082e-4ec3-c07a-ba0c59bd3df1",
        "colab": {
          "base_uri": "https://localhost:8080/",
          "height": 202
        }
      },
      "source": [
        "benign_df = pd.read_csv(\"drive/My Drive/Colab Notebooks/Phishing_URL/top-1m.csv\", names=[\"url\"])\n",
        "benign_df['label'] = 0\n",
        "benign_df.head()"
      ],
      "execution_count": null,
      "outputs": [
        {
          "output_type": "execute_result",
          "data": {
            "text/html": [
              "<div>\n",
              "<style scoped>\n",
              "    .dataframe tbody tr th:only-of-type {\n",
              "        vertical-align: middle;\n",
              "    }\n",
              "\n",
              "    .dataframe tbody tr th {\n",
              "        vertical-align: top;\n",
              "    }\n",
              "\n",
              "    .dataframe thead th {\n",
              "        text-align: right;\n",
              "    }\n",
              "</style>\n",
              "<table border=\"1\" class=\"dataframe\">\n",
              "  <thead>\n",
              "    <tr style=\"text-align: right;\">\n",
              "      <th></th>\n",
              "      <th>url</th>\n",
              "      <th>label</th>\n",
              "    </tr>\n",
              "  </thead>\n",
              "  <tbody>\n",
              "    <tr>\n",
              "      <th>0</th>\n",
              "      <td>google.com</td>\n",
              "      <td>0</td>\n",
              "    </tr>\n",
              "    <tr>\n",
              "      <th>1</th>\n",
              "      <td>microsoft.com</td>\n",
              "      <td>0</td>\n",
              "    </tr>\n",
              "    <tr>\n",
              "      <th>2</th>\n",
              "      <td>www.google.com</td>\n",
              "      <td>0</td>\n",
              "    </tr>\n",
              "    <tr>\n",
              "      <th>3</th>\n",
              "      <td>windowsupdate.com</td>\n",
              "      <td>0</td>\n",
              "    </tr>\n",
              "    <tr>\n",
              "      <th>4</th>\n",
              "      <td>netflix.com</td>\n",
              "      <td>0</td>\n",
              "    </tr>\n",
              "  </tbody>\n",
              "</table>\n",
              "</div>"
            ],
            "text/plain": [
              "                 url  label\n",
              "0         google.com      0\n",
              "1      microsoft.com      0\n",
              "2     www.google.com      0\n",
              "3  windowsupdate.com      0\n",
              "4        netflix.com      0"
            ]
          },
          "metadata": {
            "tags": []
          },
          "execution_count": 33
        }
      ]
    },
    {
      "cell_type": "code",
      "metadata": {
        "id": "sheDayRsCdXS",
        "outputId": "3060bb7a-ab82-498e-cab0-ae98d2b84951",
        "colab": {
          "base_uri": "https://localhost:8080/",
          "height": 34
        }
      },
      "source": [
        "new_ben = benign_df.sample(new_mal.shape[0])\n",
        "print( str(new_ben.shape[0]) + \" normal URLs\")"
      ],
      "execution_count": null,
      "outputs": [
        {
          "output_type": "stream",
          "text": [
            "13098 normal URLs\n"
          ],
          "name": "stdout"
        }
      ]
    },
    {
      "cell_type": "code",
      "metadata": {
        "id": "CKFCFq3w_8PG",
        "outputId": "82e42c16-15d9-4d6b-b0ca-454bf90e5cfb",
        "colab": {
          "base_uri": "https://localhost:8080/",
          "height": 202
        }
      },
      "source": [
        "dataframes = [new_mal, new_ben]\n",
        "dataset = pd.concat(dataframes)\n",
        "dataset.tail()"
      ],
      "execution_count": null,
      "outputs": [
        {
          "output_type": "execute_result",
          "data": {
            "text/html": [
              "<div>\n",
              "<style scoped>\n",
              "    .dataframe tbody tr th:only-of-type {\n",
              "        vertical-align: middle;\n",
              "    }\n",
              "\n",
              "    .dataframe tbody tr th {\n",
              "        vertical-align: top;\n",
              "    }\n",
              "\n",
              "    .dataframe thead th {\n",
              "        text-align: right;\n",
              "    }\n",
              "</style>\n",
              "<table border=\"1\" class=\"dataframe\">\n",
              "  <thead>\n",
              "    <tr style=\"text-align: right;\">\n",
              "      <th></th>\n",
              "      <th>url</th>\n",
              "      <th>label</th>\n",
              "    </tr>\n",
              "  </thead>\n",
              "  <tbody>\n",
              "    <tr>\n",
              "      <th>945097</th>\n",
              "      <td>depkominfo.go.id</td>\n",
              "      <td>0</td>\n",
              "    </tr>\n",
              "    <tr>\n",
              "      <th>396710</th>\n",
              "      <td>realdmp.realclick.co.kr</td>\n",
              "      <td>0</td>\n",
              "    </tr>\n",
              "    <tr>\n",
              "      <th>607968</th>\n",
              "      <td>storage-ec2-924.sharefile.com</td>\n",
              "      <td>0</td>\n",
              "    </tr>\n",
              "    <tr>\n",
              "      <th>215241</th>\n",
              "      <td>autoimg.cn.ccgslb.com.cn</td>\n",
              "      <td>0</td>\n",
              "    </tr>\n",
              "    <tr>\n",
              "      <th>825069</th>\n",
              "      <td>www.hoopsrumors.com</td>\n",
              "      <td>0</td>\n",
              "    </tr>\n",
              "  </tbody>\n",
              "</table>\n",
              "</div>"
            ],
            "text/plain": [
              "                                  url  label\n",
              "945097               depkominfo.go.id      0\n",
              "396710        realdmp.realclick.co.kr      0\n",
              "607968  storage-ec2-924.sharefile.com      0\n",
              "215241       autoimg.cn.ccgslb.com.cn      0\n",
              "825069            www.hoopsrumors.com      0"
            ]
          },
          "metadata": {
            "tags": []
          },
          "execution_count": 36
        }
      ]
    },
    {
      "cell_type": "markdown",
      "metadata": {
        "id": "BbwRsLTQC7x7"
      },
      "source": [
        "**Extract the TLD**"
      ]
    },
    {
      "cell_type": "code",
      "metadata": {
        "id": "gO2hDD-lC1uh",
        "outputId": "a7ecd30f-be58-4b8d-c62a-7f1f6fb8427d",
        "colab": {
          "base_uri": "https://localhost:8080/",
          "height": 202
        }
      },
      "source": [
        "dataset.url = dataset.url.map(lambda u : extract(u).domain)\n",
        "dataset.head()"
      ],
      "execution_count": null,
      "outputs": [
        {
          "output_type": "execute_result",
          "data": {
            "text/html": [
              "<div>\n",
              "<style scoped>\n",
              "    .dataframe tbody tr th:only-of-type {\n",
              "        vertical-align: middle;\n",
              "    }\n",
              "\n",
              "    .dataframe tbody tr th {\n",
              "        vertical-align: top;\n",
              "    }\n",
              "\n",
              "    .dataframe thead th {\n",
              "        text-align: right;\n",
              "    }\n",
              "</style>\n",
              "<table border=\"1\" class=\"dataframe\">\n",
              "  <thead>\n",
              "    <tr style=\"text-align: right;\">\n",
              "      <th></th>\n",
              "      <th>url</th>\n",
              "      <th>label</th>\n",
              "    </tr>\n",
              "  </thead>\n",
              "  <tbody>\n",
              "    <tr>\n",
              "      <th>0</th>\n",
              "      <td>accesodigitalfirma</td>\n",
              "      <td>1</td>\n",
              "    </tr>\n",
              "    <tr>\n",
              "      <th>1</th>\n",
              "      <td>iticadregisterbonus</td>\n",
              "      <td>1</td>\n",
              "    </tr>\n",
              "    <tr>\n",
              "      <th>2</th>\n",
              "      <td>idlemovil</td>\n",
              "      <td>1</td>\n",
              "    </tr>\n",
              "    <tr>\n",
              "      <th>3</th>\n",
              "      <td>jhtys</td>\n",
              "      <td>1</td>\n",
              "    </tr>\n",
              "    <tr>\n",
              "      <th>4</th>\n",
              "      <td>sicurezza-covid19</td>\n",
              "      <td>1</td>\n",
              "    </tr>\n",
              "  </tbody>\n",
              "</table>\n",
              "</div>"
            ],
            "text/plain": [
              "                   url  label\n",
              "0   accesodigitalfirma      1\n",
              "1  iticadregisterbonus      1\n",
              "2            idlemovil      1\n",
              "3                jhtys      1\n",
              "4    sicurezza-covid19      1"
            ]
          },
          "metadata": {
            "tags": []
          },
          "execution_count": 37
        }
      ]
    },
    {
      "cell_type": "code",
      "metadata": {
        "id": "3dTe1aHLDKu5",
        "outputId": "f18fcfe4-e91e-42db-d212-9e53067e4fd8",
        "colab": {
          "base_uri": "https://localhost:8080/",
          "height": 34
        }
      },
      "source": [
        "domain_char_list = [\"a\", \"b\", \"c\", \"d\", \"e\", \"f\", \"g\", \"h\", \"i\", \"j\", \"k\", \"l\", \"m\", \"n\", \"o\", \"p\", \"q\", \"r\", \"s\", \"t\", \"u\", \"v\", \"w\", \"x\", \"y\", \"z\",\n",
        "                    \"A\", \"B\", \"C\", \"D\", \"E\", \"F\", \"G\", \"H\", \"I\", \"J\", \"K\", \"L\", \"M\", \"N\", \"O\", \"P\", \"Q\", \"R\", \"S\", \"T\", \"U\", \"V\", \"W\", \"X\", \"Y\", \"Z\", \n",
        "                    \"0\", \"1\", \"2\", \"3\", \"4\", \"5\", \"6\", \"7\", \"8\", \"9\",\n",
        "                    \"-\", \"_\", \".\"]\n",
        "len(domain_char_list)\n"
      ],
      "execution_count": null,
      "outputs": [
        {
          "output_type": "execute_result",
          "data": {
            "text/plain": [
              "65"
            ]
          },
          "metadata": {
            "tags": []
          },
          "execution_count": 38
        }
      ]
    },
    {
      "cell_type": "code",
      "metadata": {
        "id": "wnVSJtPJEjXS",
        "outputId": "a491d6d3-8a43-4ff9-a325-b28f292bc638",
        "colab": {
          "base_uri": "https://localhost:8080/",
          "height": 34
        }
      },
      "source": [
        "from tensorflow.keras.preprocessing.sequence import pad_sequences\n",
        "dataset.shape[0]"
      ],
      "execution_count": null,
      "outputs": [
        {
          "output_type": "execute_result",
          "data": {
            "text/plain": [
              "26196"
            ]
          },
          "metadata": {
            "tags": []
          },
          "execution_count": 39
        }
      ]
    },
    {
      "cell_type": "code",
      "metadata": {
        "id": "JJnO52kPFRFU",
        "outputId": "2c323bf5-7d7d-4daa-999c-ae6b7a0ad1f7",
        "colab": {
          "base_uri": "https://localhost:8080/",
          "height": 34
        }
      },
      "source": [
        "# Filtering out IP addresses\n",
        "dataset = dataset[~dataset['url'].str.contains(\"\\\\.\")]\n",
        "dataset.shape[0]"
      ],
      "execution_count": null,
      "outputs": [
        {
          "output_type": "execute_result",
          "data": {
            "text/plain": [
              "25888"
            ]
          },
          "metadata": {
            "tags": []
          },
          "execution_count": 40
        }
      ]
    },
    {
      "cell_type": "code",
      "metadata": {
        "id": "hyoPUH3PFTF4",
        "outputId": "06c92773-5bf3-47fe-8341-b2e73643d663",
        "colab": {
          "base_uri": "https://localhost:8080/",
          "height": 415
        }
      },
      "source": [
        "dataset['url'] = dataset['url'].map(lambda u : [domain_char_list.index(c) + 1 for c in u])\n",
        "dataset"
      ],
      "execution_count": null,
      "outputs": [
        {
          "output_type": "execute_result",
          "data": {
            "text/html": [
              "<div>\n",
              "<style scoped>\n",
              "    .dataframe tbody tr th:only-of-type {\n",
              "        vertical-align: middle;\n",
              "    }\n",
              "\n",
              "    .dataframe tbody tr th {\n",
              "        vertical-align: top;\n",
              "    }\n",
              "\n",
              "    .dataframe thead th {\n",
              "        text-align: right;\n",
              "    }\n",
              "</style>\n",
              "<table border=\"1\" class=\"dataframe\">\n",
              "  <thead>\n",
              "    <tr style=\"text-align: right;\">\n",
              "      <th></th>\n",
              "      <th>url</th>\n",
              "      <th>label</th>\n",
              "    </tr>\n",
              "  </thead>\n",
              "  <tbody>\n",
              "    <tr>\n",
              "      <th>0</th>\n",
              "      <td>[1, 3, 3, 5, 19, 15, 4, 9, 7, 9, 20, 1, 12, 6,...</td>\n",
              "      <td>1</td>\n",
              "    </tr>\n",
              "    <tr>\n",
              "      <th>1</th>\n",
              "      <td>[9, 20, 9, 3, 1, 4, 18, 5, 7, 9, 19, 20, 5, 18...</td>\n",
              "      <td>1</td>\n",
              "    </tr>\n",
              "    <tr>\n",
              "      <th>2</th>\n",
              "      <td>[9, 4, 12, 5, 13, 15, 22, 9, 12]</td>\n",
              "      <td>1</td>\n",
              "    </tr>\n",
              "    <tr>\n",
              "      <th>3</th>\n",
              "      <td>[10, 8, 20, 25, 19]</td>\n",
              "      <td>1</td>\n",
              "    </tr>\n",
              "    <tr>\n",
              "      <th>4</th>\n",
              "      <td>[19, 9, 3, 21, 18, 5, 26, 26, 1, 63, 3, 15, 22...</td>\n",
              "      <td>1</td>\n",
              "    </tr>\n",
              "    <tr>\n",
              "      <th>...</th>\n",
              "      <td>...</td>\n",
              "      <td>...</td>\n",
              "    </tr>\n",
              "    <tr>\n",
              "      <th>945097</th>\n",
              "      <td>[4, 5, 16, 11, 15, 13, 9, 14, 6, 15]</td>\n",
              "      <td>0</td>\n",
              "    </tr>\n",
              "    <tr>\n",
              "      <th>396710</th>\n",
              "      <td>[18, 5, 1, 12, 3, 12, 9, 3, 11]</td>\n",
              "      <td>0</td>\n",
              "    </tr>\n",
              "    <tr>\n",
              "      <th>607968</th>\n",
              "      <td>[19, 8, 1, 18, 5, 6, 9, 12, 5]</td>\n",
              "      <td>0</td>\n",
              "    </tr>\n",
              "    <tr>\n",
              "      <th>215241</th>\n",
              "      <td>[3, 3, 7, 19, 12, 2]</td>\n",
              "      <td>0</td>\n",
              "    </tr>\n",
              "    <tr>\n",
              "      <th>825069</th>\n",
              "      <td>[8, 15, 15, 16, 19, 18, 21, 13, 15, 18, 19]</td>\n",
              "      <td>0</td>\n",
              "    </tr>\n",
              "  </tbody>\n",
              "</table>\n",
              "<p>25888 rows × 2 columns</p>\n",
              "</div>"
            ],
            "text/plain": [
              "                                                      url  label\n",
              "0       [1, 3, 3, 5, 19, 15, 4, 9, 7, 9, 20, 1, 12, 6,...      1\n",
              "1       [9, 20, 9, 3, 1, 4, 18, 5, 7, 9, 19, 20, 5, 18...      1\n",
              "2                        [9, 4, 12, 5, 13, 15, 22, 9, 12]      1\n",
              "3                                     [10, 8, 20, 25, 19]      1\n",
              "4       [19, 9, 3, 21, 18, 5, 26, 26, 1, 63, 3, 15, 22...      1\n",
              "...                                                   ...    ...\n",
              "945097               [4, 5, 16, 11, 15, 13, 9, 14, 6, 15]      0\n",
              "396710                    [18, 5, 1, 12, 3, 12, 9, 3, 11]      0\n",
              "607968                     [19, 8, 1, 18, 5, 6, 9, 12, 5]      0\n",
              "215241                               [3, 3, 7, 19, 12, 2]      0\n",
              "825069        [8, 15, 15, 16, 19, 18, 21, 13, 15, 18, 19]      0\n",
              "\n",
              "[25888 rows x 2 columns]"
            ]
          },
          "metadata": {
            "tags": []
          },
          "execution_count": 41
        }
      ]
    },
    {
      "cell_type": "code",
      "metadata": {
        "id": "iYCHL34OGk24"
      },
      "source": [
        "features = pad_sequences(dataset['url'], padding='post')\n",
        "labels = dataset['label']"
      ],
      "execution_count": null,
      "outputs": []
    },
    {
      "cell_type": "code",
      "metadata": {
        "id": "OqpbD0P5LAGL",
        "outputId": "b0ef578b-7366-4d75-a654-7e3723bc71d1",
        "colab": {
          "base_uri": "https://localhost:8080/",
          "height": 121
        }
      },
      "source": [
        "features.shape\n",
        "labels.head()"
      ],
      "execution_count": null,
      "outputs": [
        {
          "output_type": "execute_result",
          "data": {
            "text/plain": [
              "0    1\n",
              "1    1\n",
              "2    1\n",
              "3    1\n",
              "4    1\n",
              "Name: label, dtype: int64"
            ]
          },
          "metadata": {
            "tags": []
          },
          "execution_count": 43
        }
      ]
    },
    {
      "cell_type": "code",
      "metadata": {
        "id": "ImrevzqvLFSv"
      },
      "source": [
        "from tensorflow.keras.models import Sequential\n",
        "from tensorflow.keras.layers import Embedding, LSTM, Dense\n",
        "\n",
        "def build_model():\n",
        "  model = Sequential()\n",
        "  num_chars = len(domain_char_list)\n",
        "  model.add(Embedding(input_dim=num_chars+1, output_dim=256, mask_zero=True))\n",
        "  model.add(LSTM(units=128, dropout=0.2, recurrent_dropout=0.0, return_sequences=False))\n",
        "  model.add(Dense(units=1, activation='sigmoid'))\n",
        "  model.compile(optimizer='adam', loss='binary_crossentropy', metrics=[\"accuracy\"])\n",
        "  return model"
      ],
      "execution_count": null,
      "outputs": []
    },
    {
      "cell_type": "code",
      "metadata": {
        "id": "3LZGvc671nW4"
      },
      "source": [
        "from sklearn.model_selection import train_test_split\n",
        "X, y = features, labels\n",
        "X_train, X_test, y_train, y_test = train_test_split(X, y, test_size=0.33, random_state=28)"
      ],
      "execution_count": null,
      "outputs": []
    },
    {
      "cell_type": "code",
      "metadata": {
        "id": "YRCT9j_i3Z_B",
        "outputId": "a8e073b7-e46d-4dca-cd74-9db776611a15",
        "colab": {
          "base_uri": "https://localhost:8080/",
          "height": 589
        }
      },
      "source": [
        "model=build_model()\n",
        "model.fit(X_train, y_train, validation_data=(X_test, y_test), epochs=16, batch_size=16)"
      ],
      "execution_count": null,
      "outputs": [
        {
          "output_type": "stream",
          "text": [
            "Epoch 1/16\n",
            "1084/1084 [==============================] - 140s 129ms/step - loss: 0.5801 - accuracy: 0.6924 - val_loss: 0.5725 - val_accuracy: 0.6898\n",
            "Epoch 2/16\n",
            "1084/1084 [==============================] - 139s 128ms/step - loss: 0.5476 - accuracy: 0.7131 - val_loss: 0.5533 - val_accuracy: 0.7072\n",
            "Epoch 3/16\n",
            "1084/1084 [==============================] - 139s 129ms/step - loss: 0.5284 - accuracy: 0.7238 - val_loss: 0.5357 - val_accuracy: 0.7230\n",
            "Epoch 4/16\n",
            "1084/1084 [==============================] - 139s 128ms/step - loss: 0.5025 - accuracy: 0.7451 - val_loss: 0.5132 - val_accuracy: 0.7416\n",
            "Epoch 5/16\n",
            "1084/1084 [==============================] - 139s 128ms/step - loss: 0.4699 - accuracy: 0.7670 - val_loss: 0.4968 - val_accuracy: 0.7550\n",
            "Epoch 6/16\n",
            "1084/1084 [==============================] - 139s 129ms/step - loss: 0.4353 - accuracy: 0.7920 - val_loss: 0.4756 - val_accuracy: 0.7674\n",
            "Epoch 7/16\n",
            "1084/1084 [==============================] - 141s 130ms/step - loss: 0.3971 - accuracy: 0.8157 - val_loss: 0.4653 - val_accuracy: 0.7794\n",
            "Epoch 8/16\n",
            "1084/1084 [==============================] - 139s 128ms/step - loss: 0.3526 - accuracy: 0.8428 - val_loss: 0.4609 - val_accuracy: 0.7934\n",
            "Epoch 9/16\n",
            "1084/1084 [==============================] - 141s 130ms/step - loss: 0.3145 - accuracy: 0.8623 - val_loss: 0.4472 - val_accuracy: 0.8004\n",
            "Epoch 10/16\n",
            "1084/1084 [==============================] - 142s 131ms/step - loss: 0.2730 - accuracy: 0.8878 - val_loss: 0.4563 - val_accuracy: 0.8065\n",
            "Epoch 11/16\n",
            "1084/1084 [==============================] - 142s 131ms/step - loss: 0.2333 - accuracy: 0.9088 - val_loss: 0.4607 - val_accuracy: 0.8126\n",
            "Epoch 12/16\n",
            "1084/1084 [==============================] - 140s 130ms/step - loss: 0.1984 - accuracy: 0.9252 - val_loss: 0.4928 - val_accuracy: 0.8221\n",
            "Epoch 13/16\n",
            "1084/1084 [==============================] - 139s 128ms/step - loss: 0.1693 - accuracy: 0.9377 - val_loss: 0.5001 - val_accuracy: 0.8262\n",
            "Epoch 14/16\n",
            "1084/1084 [==============================] - 140s 129ms/step - loss: 0.1428 - accuracy: 0.9516 - val_loss: 0.5277 - val_accuracy: 0.8281\n",
            "Epoch 15/16\n",
            "1084/1084 [==============================] - 138s 127ms/step - loss: 0.1231 - accuracy: 0.9581 - val_loss: 0.5578 - val_accuracy: 0.8281\n",
            "Epoch 16/16\n",
            "1084/1084 [==============================] - 140s 129ms/step - loss: 0.1085 - accuracy: 0.9652 - val_loss: 0.5769 - val_accuracy: 0.8302\n"
          ],
          "name": "stdout"
        },
        {
          "output_type": "execute_result",
          "data": {
            "text/plain": [
              "<tensorflow.python.keras.callbacks.History at 0x7f4c48835198>"
            ]
          },
          "metadata": {
            "tags": []
          },
          "execution_count": 17
        }
      ]
    },
    {
      "cell_type": "code",
      "metadata": {
        "id": "vwIkx2ex4HO9",
        "outputId": "333ddfc5-0de2-4289-f02d-2df296e31801",
        "colab": {
          "base_uri": "https://localhost:8080/",
          "height": 140
        }
      },
      "source": [
        "test_domains = [\"https://www.google.com\", \"https://www.quora.com/How-do-I-calculate-the-entropy-of-words\", \"https://www.sdjfsid983r8ff328h.com/\"]\n",
        "test_domains_df = pd.DataFrame({\"domain\" : test_domains})\n",
        "test_domains_df.domain = test_domains_df.domain.map(lambda d: extract(d).domain)\n",
        "test_domains_df.domain = test_domains_df.domain.map(lambda d : [domain_char_list.index(c) + 1 for c in d])\n",
        "test_domains_X = pad_sequences(test_domains_df.domain, padding='post')\n",
        "test_domains_df[\"predictions\"] = model.predict(test_domains_X)\n",
        "test_domains_df[\"domain\"] = test_domains\n",
        "test_domains_df.head()"
      ],
      "execution_count": null,
      "outputs": [
        {
          "output_type": "execute_result",
          "data": {
            "text/html": [
              "<div>\n",
              "<style scoped>\n",
              "    .dataframe tbody tr th:only-of-type {\n",
              "        vertical-align: middle;\n",
              "    }\n",
              "\n",
              "    .dataframe tbody tr th {\n",
              "        vertical-align: top;\n",
              "    }\n",
              "\n",
              "    .dataframe thead th {\n",
              "        text-align: right;\n",
              "    }\n",
              "</style>\n",
              "<table border=\"1\" class=\"dataframe\">\n",
              "  <thead>\n",
              "    <tr style=\"text-align: right;\">\n",
              "      <th></th>\n",
              "      <th>domain</th>\n",
              "      <th>predictions</th>\n",
              "    </tr>\n",
              "  </thead>\n",
              "  <tbody>\n",
              "    <tr>\n",
              "      <th>0</th>\n",
              "      <td>https://www.google.com</td>\n",
              "      <td>0.954598</td>\n",
              "    </tr>\n",
              "    <tr>\n",
              "      <th>1</th>\n",
              "      <td>https://www.quora.com/How-do-I-calculate-the-e...</td>\n",
              "      <td>0.936769</td>\n",
              "    </tr>\n",
              "    <tr>\n",
              "      <th>2</th>\n",
              "      <td>https://www.sdjfsid983r8ff328h.com/</td>\n",
              "      <td>0.008544</td>\n",
              "    </tr>\n",
              "  </tbody>\n",
              "</table>\n",
              "</div>"
            ],
            "text/plain": [
              "                                              domain  predictions\n",
              "0                             https://www.google.com     0.954598\n",
              "1  https://www.quora.com/How-do-I-calculate-the-e...     0.936769\n",
              "2                https://www.sdjfsid983r8ff328h.com/     0.008544"
            ]
          },
          "metadata": {
            "tags": []
          },
          "execution_count": 45
        }
      ]
    }
  ]
}